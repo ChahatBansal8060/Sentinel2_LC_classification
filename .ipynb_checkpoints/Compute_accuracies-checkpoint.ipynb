{
 "cells": [
  {
   "cell_type": "code",
   "execution_count": 1,
   "metadata": {},
   "outputs": [],
   "source": [
    "import os, sys\n",
    "from PIL import Image\n",
    "import numpy as np"
   ]
  },
  {
   "cell_type": "code",
   "execution_count": 2,
   "metadata": {},
   "outputs": [],
   "source": [
    "# specifying integer code of land cover classes\n",
    "green = 1\n",
    "water = 2\n",
    "builtup = 3\n",
    "barrenland = 4\n",
    "\n",
    "# list of districts for which the accuracy is to be calculated\n",
    "districts = ['Gurgaon','Hyderabad','Mumbai']\n",
    "\n",
    "# Name of the main folder where the cropped tif files of predictions are stored\n",
    "main_folder = 'Classification_Accuracy_Test'\n"
   ]
  },
  {
   "cell_type": "code",
   "execution_count": 3,
   "metadata": {},
   "outputs": [],
   "source": [
    "'''\n",
    "This function is used to calculate the precision of each landcover class from confusion matrix\n",
    "'''\n",
    "def precision(label, confusion_matrix):\n",
    "    col = confusion_matrix[:, label]\n",
    "    return confusion_matrix[label, label] / col.sum()\n",
    "   \n",
    "'''\n",
    "This function is used to calculate the recall value of each landcover class from confusion matrix\n",
    "'''\n",
    "def recall(label, confusion_matrix):\n",
    "    row = confusion_matrix[label, :]\n",
    "    return confusion_matrix[label, label] / row.sum()\n",
    "\n",
    "'''\n",
    "This function is used to calculate the overall accuracy of land cover classification in a district\n",
    "'''\n",
    "def accuracy(confusion_matrix):\n",
    "    diagonal_sum = confusion_matrix.trace()\n",
    "    sum_of_all_elements = confusion_matrix.sum()\n",
    "    return diagonal_sum / sum_of_all_elements \n",
    "\n"
   ]
  },
  {
   "cell_type": "code",
   "execution_count": 5,
   "metadata": {},
   "outputs": [
    {
     "name": "stdout",
     "output_type": "stream",
     "text": [
      "Confusion Matrix for district  Gurgaon is: \n",
      " [[4974    0    0   15]\n",
      " [  92  573   34    1]\n",
      " [   6    0 1237    6]\n",
      " [ 802    0  143  753]] \n",
      "\n",
      "Accuracy:  0.8727420101899027 \n",
      "\n",
      "label precision recall\n",
      "    0     0.847  0.997\n",
      "    1     1.000  0.819\n",
      "    2     0.875  0.990\n",
      "    3     0.972  0.443\n",
      "\n",
      "\n",
      "\n",
      "Confusion Matrix for district  Hyderabad is: \n",
      " [[ 804    0    0    0]\n",
      " [  20 1406    0    0]\n",
      " [   7    0 2202    0]\n",
      " [   2    0    8   23]] \n",
      "\n",
      "Accuracy:  0.9917262969588551 \n",
      "\n",
      "label precision recall\n",
      "    0     0.965  1.000\n",
      "    1     1.000  0.986\n",
      "    2     0.996  0.997\n",
      "    3     1.000  0.697\n",
      "\n",
      "\n",
      "\n",
      "Confusion Matrix for district  Mumbai is: \n",
      " [[ 366    0    0    0]\n",
      " [   2 2859    1    0]\n",
      " [  31   13 2354    0]\n",
      " [  28    0   61  305]] \n",
      "\n",
      "Accuracy:  0.9774086378737542 \n",
      "\n",
      "label precision recall\n",
      "    0     0.857  1.000\n",
      "    1     0.995  0.999\n",
      "    2     0.974  0.982\n",
      "    3     1.000  0.774\n",
      "\n",
      "\n",
      "\n"
     ]
    }
   ],
   "source": [
    "landcover_classes = ['Green','Water','Builtup','Barrenland']\n",
    "for district in districts:\n",
    "    confusion_matrix = [] # this is the confusion matrix against each district\n",
    "\n",
    "    for landcover in landcover_classes:\n",
    "        landcover_predicted_class_count = [0, 0, 0, 0] # this list stores the count of a particular class predicted as other classes \n",
    "        tif_files_path = main_folder+'/'+district+'/'+landcover        \n",
    "        \n",
    "        for tif_file in os.listdir(tif_files_path):\n",
    "            tif_image = np.asarray(Image.open(tif_files_path+'/'+tif_file))\n",
    "            \n",
    "            if green in np.unique(tif_image, return_counts=True)[0]:\n",
    "                landcover_predicted_class_count[0] += np.unique(tif_image, return_counts=True)[1][np.where(np.unique(tif_image,return_counts=True)[0]==green)[0][0]]\n",
    "            \n",
    "            if water in np.unique(tif_image, return_counts=True)[0]:\n",
    "                landcover_predicted_class_count[1] += np.unique(tif_image, return_counts=True)[1][np.where(np.unique(tif_image,return_counts=True)[0]==water)[0][0]]\n",
    "                \n",
    "            if builtup in np.unique(tif_image, return_counts=True)[0]:\n",
    "                landcover_predicted_class_count[2] += np.unique(tif_image, return_counts=True)[1][np.where(np.unique(tif_image,return_counts=True)[0]==builtup)[0][0]]\n",
    "                \n",
    "            if barrenland in np.unique(tif_image, return_counts=True)[0]:\n",
    "                landcover_predicted_class_count[3] += np.unique(tif_image, return_counts=True)[1][np.where(np.unique(tif_image,return_counts=True)[0]==barrenland)[0][0]]\n",
    "                \n",
    "        confusion_matrix.append(landcover_predicted_class_count)\n",
    "    \n",
    "    confusion_matrix = np.array(confusion_matrix)\n",
    "    print(\"Confusion Matrix for district \",district,\"is: \\n\",confusion_matrix,\"\\n\")\n",
    "    \n",
    "    print(\"Accuracy: \",accuracy(confusion_matrix),\"\\n\")\n",
    "    print(\"label precision recall\")\n",
    "    for label in range(4):\n",
    "        print(f\"{label:5d} {precision(label, confusion_matrix):9.3f} {recall(label, confusion_matrix):6.3f}\")\n",
    "    print(\"\\n\\n\")\n",
    "            "
   ]
  },
  {
   "cell_type": "code",
   "execution_count": null,
   "metadata": {},
   "outputs": [],
   "source": []
  }
 ],
 "metadata": {
  "kernelspec": {
   "display_name": "Python 3",
   "language": "python",
   "name": "python3"
  },
  "language_info": {
   "codemirror_mode": {
    "name": "ipython",
    "version": 3
   },
   "file_extension": ".py",
   "mimetype": "text/x-python",
   "name": "python",
   "nbconvert_exporter": "python",
   "pygments_lexer": "ipython3",
   "version": "3.6.9"
  }
 },
 "nbformat": 4,
 "nbformat_minor": 2
}
